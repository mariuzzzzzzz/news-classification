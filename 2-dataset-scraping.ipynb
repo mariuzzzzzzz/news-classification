{
 "cells": [
  {
   "cell_type": "markdown",
   "metadata": {},
   "source": [
    "### Data Set Scraping"
   ]
  },
  {
   "cell_type": "markdown",
   "metadata": {},
   "source": [
    "#### Imports"
   ]
  },
  {
   "cell_type": "code",
   "execution_count": 2,
   "metadata": {},
   "outputs": [],
   "source": [
    "import pandas as pd\n",
    "import requests\n",
    "from bs4 import BeautifulSoup"
   ]
  },
  {
   "cell_type": "code",
   "execution_count": 22,
   "metadata": {},
   "outputs": [
    {
     "name": "stdout",
     "output_type": "stream",
     "text": [
      "Found 96 article blocks on https://www.theguardian.com/europe\n",
      "Found 64 article blocks on https://www.theguardian.com/global-development\n",
      "Saved 100 articles to './raw-data/scraped-articles.csv'\n"
     ]
    }
   ],
   "source": [
    "import requests\n",
    "from bs4 import BeautifulSoup\n",
    "import pandas as pd\n",
    "\n",
    "def scrape_guardian_articles(url, num_articles):\n",
    "    response = requests.get(url)\n",
    "    soup = BeautifulSoup(response.text, 'html.parser')\n",
    "\n",
    "    articles = []\n",
    "    count = 0\n",
    "\n",
    "    # Find all article links\n",
    "    article_blocks = soup.find_all('a', class_='dcr-lv2v9o')\n",
    "    print(f\"Found {len(article_blocks)} article blocks on {url}\")\n",
    "\n",
    "    for article in article_blocks:\n",
    "        article_url = article['href']\n",
    "        if not article_url.startswith('http'):\n",
    "            article_url = 'https://www.theguardian.com' + article_url\n",
    "        article_response = requests.get(article_url)\n",
    "        article_soup = BeautifulSoup(article_response.text, 'html.parser')\n",
    "\n",
    "        title_tag = article_soup.find('h1')\n",
    "        if title_tag:\n",
    "            title = title_tag.get_text()\n",
    "            text = ' '.join(p.get_text() for p in article_soup.find_all('p'))\n",
    "            articles.append({'title': title, 'text': text, 'label': 1})\n",
    "            count += 1\n",
    "\n",
    "        if count >= num_articles:\n",
    "            break\n",
    "\n",
    "    return articles\n",
    "\n",
    "# Scrape 50 articles from each section\n",
    "europe_articles = scrape_guardian_articles('https://www.theguardian.com/europe', 50)\n",
    "global_dev_articles = scrape_guardian_articles('https://www.theguardian.com/global-development', 50)\n",
    "\n",
    "# Combine articles\n",
    "scraped_articles = europe_articles + global_dev_articles\n",
    "\n",
    "# Convert to DataFrame\n",
    "df = pd.DataFrame(scraped_articles)\n",
    "\n",
    "# Save to CSV\n",
    "df.to_csv('./raw-data/scraped-articles.csv', index=True, index_label='index', columns=['title', 'text', 'label'])\n",
    "\n",
    "print(f\"Saved {len(scraped_articles)} articles to './raw-data/scraped-articles.csv'\")"
   ]
  },
  {
   "cell_type": "code",
   "execution_count": 1,
   "metadata": {},
   "outputs": [
    {
     "name": "stdout",
     "output_type": "stream",
     "text": [
      "-----------------------------------\n",
      "POSIX\n",
      "Darwin | 23.5.0\n",
      "Datetime: 2024-05-28 18:19:16\n",
      "Python Version: 3.12.1\n",
      "-----------------------------------\n"
     ]
    }
   ],
   "source": [
    "import os\n",
    "import platform\n",
    "import socket\n",
    "from platform import python_version\n",
    "from datetime import datetime\n",
    "\n",
    "print('-----------------------------------')\n",
    "print(os.name.upper())\n",
    "print(platform.system(), '|', platform.release())\n",
    "print('Datetime:', datetime.now().strftime(\"%Y-%m-%d %H:%M:%S\"))\n",
    "print('Python Version:', python_version())\n",
    "print('-----------------------------------')"
   ]
  }
 ],
 "metadata": {
  "kernelspec": {
   "display_name": "Python 3",
   "language": "python",
   "name": "python3"
  },
  "language_info": {
   "codemirror_mode": {
    "name": "ipython",
    "version": 3
   },
   "file_extension": ".py",
   "mimetype": "text/x-python",
   "name": "python",
   "nbconvert_exporter": "python",
   "pygments_lexer": "ipython3",
   "version": "3.12.1"
  }
 },
 "nbformat": 4,
 "nbformat_minor": 2
}
