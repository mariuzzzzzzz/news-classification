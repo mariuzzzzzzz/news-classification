{
 "cells": [
  {
   "cell_type": "markdown",
   "metadata": {},
   "source": [
    "### Model Prediction"
   ]
  },
  {
   "cell_type": "markdown",
   "metadata": {},
   "source": [
    "#### Inputs"
   ]
  },
  {
   "cell_type": "code",
   "execution_count": 11,
   "metadata": {},
   "outputs": [],
   "source": [
    "import pandas as pd\n",
    "import re\n",
    "import numpy as np\n",
    "import nltk\n",
    "from nltk.tokenize import word_tokenize\n",
    "from nltk.corpus import stopwords\n",
    "from nltk.stem import WordNetLemmatizer\n",
    "from tensorflow.keras.preprocessing.sequence import pad_sequences\n",
    "from keras.models import load_model\n",
    "from sklearn.metrics import confusion_matrix, classification_report\n",
    "import seaborn as sns\n",
    "import matplotlib.pyplot as plt\n",
    "import pickle"
   ]
  },
  {
   "cell_type": "markdown",
   "metadata": {},
   "source": [
    "#### Predict generated and scraped dataset"
   ]
  },
  {
   "cell_type": "code",
   "execution_count": 12,
   "metadata": {},
   "outputs": [
    {
     "name": "stderr",
     "output_type": "stream",
     "text": [
      "[nltk_data] Downloading package wordnet to\n",
      "[nltk_data]     /Users/mariusaffolter/nltk_data...\n",
      "[nltk_data]   Package wordnet is already up-to-date!\n",
      "[nltk_data] Downloading package omw-1.4 to\n",
      "[nltk_data]     /Users/mariusaffolter/nltk_data...\n",
      "[nltk_data]   Package omw-1.4 is already up-to-date!\n",
      "[nltk_data] Downloading package stopwords to\n",
      "[nltk_data]     /Users/mariusaffolter/nltk_data...\n",
      "[nltk_data]   Package stopwords is already up-to-date!\n",
      "[nltk_data] Downloading package punkt to\n",
      "[nltk_data]     /Users/mariusaffolter/nltk_data...\n",
      "[nltk_data]   Package punkt is already up-to-date!\n",
      "WARNING:absl:Compiled the loaded model, but the compiled metrics have yet to be built. `model.compile_metrics` will be empty until you train or evaluate the model.\n"
     ]
    },
    {
     "name": "stdout",
     "output_type": "stream",
     "text": [
      "\u001b[1m7/7\u001b[0m \u001b[32m━━━━━━━━━━━━━━━━━━━━\u001b[0m\u001b[37m\u001b[0m \u001b[1m0s\u001b[0m 6ms/step \n"
     ]
    },
    {
     "data": {
      "image/png": "[encoded data removed]",
      "text/plain": [
       "<Figure size 800x600 with 2 Axes>"
      ]
     },
     "metadata": {},
     "output_type": "display_data"
    },
    {
     "name": "stdout",
     "output_type": "stream",
     "text": [
      "              precision    recall  f1-score   support\n",
      "\n",
      "        Fake       0.63      0.79      0.70       100\n",
      "        Real       0.72      0.54      0.62       100\n",
      "\n",
      "    accuracy                           0.67       200\n",
      "   macro avg       0.68      0.67      0.66       200\n",
      "weighted avg       0.68      0.67      0.66       200\n",
      "\n"
     ]
    }
   ],
   "source": [
    "# Load the new datasets\n",
    "generated_articles = pd.read_csv('./raw-data/generated-articles.csv')\n",
    "scraped_articles = pd.read_csv('./raw-data/scraped-articles.csv')\n",
    "\n",
    "# Assign labels to each dataset\n",
    "generated_articles['label'] = 0\n",
    "scraped_articles['label'] = 1\n",
    "\n",
    "# Merge the datasets\n",
    "new_data = pd.concat([generated_articles, scraped_articles], ignore_index=True)\n",
    "\n",
    "# Check for cleaning data\n",
    "new_data.drop_duplicates(inplace=True)\n",
    "\n",
    "# Preprocess the text data\n",
    "nltk.download('wordnet')\n",
    "nltk.download('omw-1.4')\n",
    "nltk.download('stopwords')\n",
    "nltk.download('punkt')\n",
    "\n",
    "def process_text(text):\n",
    "    text = re.sub(r'\\s+', ' ', text, flags=re.I)\n",
    "    text = re.sub(r'\\W', ' ', str(text))\n",
    "    text = re.sub(r'\\s+[a-zA-Z]\\s+', ' ', text)\n",
    "    text = re.sub(r'[^a-zA-Z\\s]', '', text)\n",
    "    text = text.lower()\n",
    "    words = word_tokenize(text)\n",
    "    lemmatizer = WordNetLemmatizer()\n",
    "    words = [lemmatizer.lemmatize(word) for word in words]\n",
    "    stop_words = set(stopwords.words(\"english\"))\n",
    "    words = [word for word in words if word not in stop_words]\n",
    "    words = [word for word in words if len(word) > 3]\n",
    "    indices = np.unique(words, return_index=True)[1]\n",
    "    cleaned_text = np.array(words)[np.sort(indices)].tolist()\n",
    "    return cleaned_text\n",
    "\n",
    "# Separate the text and labels\n",
    "x_new = new_data.drop('label', axis=1)\n",
    "y_new = new_data.label\n",
    "\n",
    "# Process the texts\n",
    "texts_new = list(x_new['text'])\n",
    "cleaned_text_new = [process_text(text) for text in texts_new]\n",
    "\n",
    "# Load the saved tokenizer\n",
    "with open('./models/tokenizer.pkl', 'rb') as handle:\n",
    "    tokenizer = pickle.load(handle)\n",
    "\n",
    "# Tokenize the new text data\n",
    "new_sequences = tokenizer.texts_to_sequences(cleaned_text_new)\n",
    "\n",
    "# Pad the sequences\n",
    "maxlen = 150\n",
    "new_padded_sequences = pad_sequences(new_sequences, maxlen=maxlen)\n",
    "\n",
    "# Load the pre-trained model\n",
    "model = load_model('./models/model-v2.h5')\n",
    "\n",
    "# Make predictions on the new data\n",
    "new_predictions = model.predict(new_padded_sequences)\n",
    "\n",
    "# Convert prediction probabilities to class labels\n",
    "new_pred_labels = np.argmax(new_predictions, axis=1)\n",
    "\n",
    "# Generate confusion matrix\n",
    "conf_matrix = confusion_matrix(y_new, new_pred_labels)\n",
    "\n",
    "# Plot the confusion matrix\n",
    "plt.figure(figsize=(8, 6))\n",
    "sns.heatmap(conf_matrix, annot=True, fmt='d', cmap='Blues', xticklabels=['Fake', 'Real'], yticklabels=['Fake', 'Real'])\n",
    "plt.xlabel('Predicted')\n",
    "plt.ylabel('True')\n",
    "plt.title('Confusion Matrix')\n",
    "plt.show()\n",
    "\n",
    "# Classification report\n",
    "report = classification_report(y_new, new_pred_labels, target_names=['Fake', 'Real'])\n",
    "print(report)"
   ]
  },
  {
   "cell_type": "markdown",
   "metadata": {},
   "source": [
    "#### Predict second dataset from Kaggle"
   ]
  },
  {
   "cell_type": "code",
   "execution_count": 13,
   "metadata": {},
   "outputs": [
    {
     "name": "stderr",
     "output_type": "stream",
     "text": [
      "[nltk_data] Downloading package wordnet to\n",
      "[nltk_data]     /Users/mariusaffolter/nltk_data...\n",
      "[nltk_data]   Package wordnet is already up-to-date!\n",
      "[nltk_data] Downloading package omw-1.4 to\n",
      "[nltk_data]     /Users/mariusaffolter/nltk_data...\n",
      "[nltk_data]   Package omw-1.4 is already up-to-date!\n",
      "[nltk_data] Downloading package stopwords to\n",
      "[nltk_data]     /Users/mariusaffolter/nltk_data...\n",
      "[nltk_data]   Package stopwords is already up-to-date!\n",
      "[nltk_data] Downloading package punkt to\n",
      "[nltk_data]     /Users/mariusaffolter/nltk_data...\n",
      "[nltk_data]   Package punkt is already up-to-date!\n",
      "WARNING:absl:Compiled the loaded model, but the compiled metrics have yet to be built. `model.compile_metrics` will be empty until you train or evaluate the model.\n"
     ]
    },
    {
     "name": "stdout",
     "output_type": "stream",
     "text": [
      "\u001b[1m2232/2232\u001b[0m \u001b[32m━━━━━━━━━━━━━━━━━━━━\u001b[0m\u001b[37m\u001b[0m \u001b[1m2s\u001b[0m 883us/step\n"
     ]
    },
    {
     "data": {
      "image/png": "[encoded data removed]",
      "text/plain": [
       "<Figure size 800x600 with 2 Axes>"
      ]
     },
     "metadata": {},
     "output_type": "display_data"
    },
    {
     "name": "stdout",
     "output_type": "stream",
     "text": [
      "              precision    recall  f1-score   support\n",
      "\n",
      "        Fake       0.19      0.23      0.21     34975\n",
      "        Real       0.07      0.06      0.07     36430\n",
      "\n",
      "    accuracy                           0.15     71405\n",
      "   macro avg       0.13      0.15      0.14     71405\n",
      "weighted avg       0.13      0.15      0.14     71405\n",
      "\n"
     ]
    }
   ],
   "source": [
    "# Load the new dataset\n",
    "new_data = pd.read_csv('./raw-data/dataset-02.csv')\n",
    "\n",
    "# Preprocess the text data\n",
    "nltk.download('wordnet')\n",
    "nltk.download('omw-1.4')\n",
    "nltk.download('stopwords')\n",
    "nltk.download('punkt')\n",
    "\n",
    "def process_text(text):\n",
    "    text = re.sub(r'\\s+', ' ', text, flags=re.I)\n",
    "    text = re.sub(r'\\W', ' ', str(text))\n",
    "    text = re.sub(r'\\s+[a-zA-Z]\\s+', ' ', text)\n",
    "    text = re.sub(r'[^a-zA-Z\\s]', '', text)\n",
    "    text = text.lower()\n",
    "    words = word_tokenize(text)\n",
    "    lemmatizer = WordNetLemmatizer()\n",
    "    words = [lemmatizer.lemmatize(word) for word in words]\n",
    "    stop_words = set(stopwords.words(\"english\"))\n",
    "    words = [word for word in words if word not in stop_words]\n",
    "    words = [word for word in words if len(word) > 3]\n",
    "    indices = np.unique(words, return_index=True)[1]\n",
    "    cleaned_text = np.array(words)[np.sort(indices)].tolist()\n",
    "    return cleaned_text\n",
    "\n",
    "# Separate the text and labels\n",
    "x_new = new_data.drop('label', axis=1)\n",
    "y_new = new_data.label\n",
    "\n",
    "# Process the texts\n",
    "texts_new = list(x_new['text'])\n",
    "cleaned_text_new = [process_text(text) for text in texts_new]\n",
    "\n",
    "# Load the pre-trained tokenizer\n",
    "with open('./models/tokenizer.pkl', 'rb') as handle:\n",
    "    tokenizer = pickle.load(handle)\n",
    "\n",
    "# Tokenize the new text data\n",
    "new_sequences = tokenizer.texts_to_sequences(cleaned_text_new)\n",
    "\n",
    "# Pad the sequences\n",
    "maxlen = 150\n",
    "new_padded_sequences = pad_sequences(new_sequences, maxlen=maxlen)\n",
    "\n",
    "# Load the pre-trained model\n",
    "model = load_model('./models/model-v2.h5')\n",
    "\n",
    "# Make predictions on the new data\n",
    "new_predictions = model.predict(new_padded_sequences)\n",
    "\n",
    "# Convert prediction probabilities to class labels\n",
    "new_pred_labels = np.argmax(new_predictions, axis=1)\n",
    "\n",
    "# Generate confusion matrix\n",
    "conf_matrix = confusion_matrix(y_new, new_pred_labels)\n",
    "\n",
    "# Plot the confusion matrix\n",
    "plt.figure(figsize=(8, 6))\n",
    "sns.heatmap(conf_matrix, annot=True, fmt='d', cmap='Blues', xticklabels=['Fake', 'Real'], yticklabels=['Fake', 'Real'])\n",
    "plt.xlabel('Predicted')\n",
    "plt.ylabel('True')\n",
    "plt.title('Confusion Matrix')\n",
    "plt.show()\n",
    "\n",
    "# Classification report\n",
    "report = classification_report(y_new, new_pred_labels, target_names=['Fake', 'Real'])\n",
    "print(report)"
   ]
  }
 ],
 "metadata": {
  "kernelspec": {
   "display_name": "Python 3",
   "language": "python",
   "name": "python3"
  },
  "language_info": {
   "codemirror_mode": {
    "name": "ipython",
    "version": 3
   },
   "file_extension": ".py",
   "mimetype": "text/x-python",
   "name": "python",
   "nbconvert_exporter": "python",
   "pygments_lexer": "ipython3",
   "version": "3.12.1"
  }
 },
 "nbformat": 4,
 "nbformat_minor": 2
}
