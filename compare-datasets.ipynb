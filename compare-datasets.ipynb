{
 "cells": [
  {
   "cell_type": "markdown",
   "metadata": {},
   "source": [
    "### Data Set Comparison"
   ]
  },
  {
   "cell_type": "markdown",
   "metadata": {},
   "source": [
    "#### Imports"
   ]
  },
  {
   "cell_type": "code",
   "execution_count": 23,
   "metadata": {},
   "outputs": [],
   "source": [
    "import pandas as pd\n",
    "import matplotlib.pyplot as plt"
   ]
  },
  {
   "cell_type": "markdown",
   "metadata": {},
   "source": [
    "#### DS-01"
   ]
  },
  {
   "cell_type": "code",
   "execution_count": 39,
   "metadata": {},
   "outputs": [
    {
     "name": "stdout",
     "output_type": "stream",
     "text": [
      "Column Labels for Dataset 01:\n",
      "['title', 'text', 'subject', 'date', 'label']\n",
      "News Type Distribution in Dataset 01:\n",
      "label\n",
      "0    23481\n",
      "1    21417\n",
      "Name: count, dtype: int64\n"
     ]
    }
   ],
   "source": [
    "# Load DS-01 Fake and True news datasets\n",
    "fake_news = pd.read_csv('./raw-data/raw-dataset-01/Fake.csv')\n",
    "true_news = pd.read_csv('./raw-data/raw-dataset-01/True.csv')\n",
    "\n",
    "# Create a single DataFrame for the separated datasets\n",
    "fake_news['label'] = 0  # 0 is for fake news\n",
    "true_news['label'] = 1  # 1 is for true news\n",
    "dataset_01 = pd.concat([fake_news, true_news], ignore_index=True)\n",
    "\n",
    "# Save the merged dataset as \"dataset-01.csv\"\n",
    "dataset_01.to_csv('./raw-data/dataset-01.csv', index=False)\n",
    "\n",
    "# Print column labels for dataset\n",
    "print(\"Column Labels for Dataset 01:\")\n",
    "print(dataset_01.columns.tolist())\n",
    "\n",
    "# Print the distribution of news types in dataset\n",
    "print(\"News Type Distribution in Dataset 01:\")\n",
    "print(dataset_01['label'].value_counts())"
   ]
  },
  {
   "cell_type": "markdown",
   "metadata": {},
   "source": [
    "#### DS-02"
   ]
  },
  {
   "cell_type": "code",
   "execution_count": 38,
   "metadata": {},
   "outputs": [
    {
     "name": "stdout",
     "output_type": "stream",
     "text": [
      "Column Labels for Dataset 02:\n",
      "['index', 'title', 'text', 'label']\n",
      "News Type Distribution in Dataset 02:\n",
      "label\n",
      "1    36430\n",
      "0    34975\n",
      "Name: count, dtype: int64\n"
     ]
    }
   ],
   "source": [
    "# Load DS-02 Fake and True news datasets\n",
    "file_path = './raw-data/raw-dataset-02.csv'\n",
    "dataset_02 = pd.read_csv(file_path, encoding='ISO-8859-1', low_memory=False)\n",
    "\n",
    "# Check and rename the first column to 'index' if it's not already named so\n",
    "dataset_02.columns = ['index'] + dataset_02.columns.tolist()[1:]\n",
    "\n",
    "# Drop rows that are entirely empty and rows that do not start with a numeric index\n",
    "dataset_02_cleaned = dataset_02.dropna(how='all')  # Drop rows where all elements are NaN\n",
    "dataset_02_cleaned = dataset_02_cleaned[dataset_02_cleaned['index'].apply(lambda x: str(x).isdigit())]\n",
    "\n",
    "# Keep only the explicitly named columns (assuming you know the column names you want to keep)\n",
    "columns_to_keep = ['index', 'title', 'text', 'label']\n",
    "dataset_02_cleaned = dataset_02_cleaned[columns_to_keep]\n",
    "\n",
    "# Drop rows with any missing values in these columns\n",
    "dataset_02_cleaned = dataset_02_cleaned.dropna()\n",
    "\n",
    "# Convert 'label' to string, fliter and back to int\n",
    "dataset_02_cleaned['label'] = dataset_02_cleaned['label'].astype(str)\n",
    "dataset_02_cleaned = dataset_02_cleaned[dataset_02_cleaned['label'].isin(['0', '1'])]\n",
    "dataset_02_cleaned['label'] = dataset_02_cleaned['label'].astype(int)\n",
    "\n",
    "# Save the cleaned dataset or continue processing as needed\n",
    "dataset_02_cleaned.to_csv('./raw-data/dataset-02.csv', index=False)\n",
    "\n",
    "# Print column labels for dataset\n",
    "print(\"Column Labels for Dataset 02:\")\n",
    "print(dataset_02_cleaned.columns.tolist())\n",
    "\n",
    "# Print the distribution of news types in dataset\n",
    "print(\"News Type Distribution in Dataset 02:\")\n",
    "print(dataset_02_cleaned['label'].value_counts())"
   ]
  },
  {
   "cell_type": "code",
   "execution_count": 43,
   "metadata": {},
   "outputs": [
    {
     "data": {
      "image/png": "[encoded data removed]",
      "text/plain": [
       "<Figure size 1200x600 with 1 Axes>"
      ]
     },
     "metadata": {},
     "output_type": "display_data"
    }
   ],
   "source": [
    "# Load the cleaned datasets\n",
    "dataset_01 = pd.read_csv('./raw-data/dataset-01.csv')\n",
    "dataset_02 = pd.read_csv('./raw-data/dataset-02.csv')\n",
    "\n",
    "# Example: Compare article lengths\n",
    "dataset_01['text_length'] = dataset_01['text'].apply(len)\n",
    "dataset_02['text_length'] = dataset_02['text'].apply(len)\n",
    "\n",
    "# Plotting the distributions of text lengths\n",
    "plt.figure(figsize=(12, 6))\n",
    "plt.hist(dataset_01['text_length'], bins=50, alpha=0.5, label='Dataset 01')\n",
    "plt.hist(dataset_02['text_length'], bins=50, alpha=0.5, label='Dataset 02')\n",
    "plt.title('Comparison of Text Lengths')\n",
    "plt.xlabel('Text Length')\n",
    "plt.ylabel('Frequency')\n",
    "plt.legend()\n",
    "plt.show()\n"
   ]
  },
  {
   "cell_type": "code",
   "execution_count": 44,
   "metadata": {},
   "outputs": [
    {
     "name": "stdout",
     "output_type": "stream",
     "text": [
      "-----------------------------------\n",
      "POSIX\n",
      "Darwin | 23.5.0\n",
      "Datetime: 2024-05-28 16:22:59\n",
      "Python Version: 3.12.1\n",
      "-----------------------------------\n"
     ]
    }
   ],
   "source": [
    "import os\n",
    "import platform\n",
    "import socket\n",
    "from platform import python_version\n",
    "from datetime import datetime\n",
    "\n",
    "print('-----------------------------------')\n",
    "print(os.name.upper())\n",
    "print(platform.system(), '|', platform.release())\n",
    "print('Datetime:', datetime.now().strftime(\"%Y-%m-%d %H:%M:%S\"))\n",
    "print('Python Version:', python_version())\n",
    "print('-----------------------------------')"
   ]
  }
 ],
 "metadata": {
  "kernelspec": {
   "display_name": "Python 3",
   "language": "python",
   "name": "python3"
  },
  "language_info": {
   "codemirror_mode": {
    "name": "ipython",
    "version": 3
   },
   "file_extension": ".py",
   "mimetype": "text/x-python",
   "name": "python",
   "nbconvert_exporter": "python",
   "pygments_lexer": "ipython3",
   "version": "3.12.1"
  }
 },
 "nbformat": 4,
 "nbformat_minor": 2
}
